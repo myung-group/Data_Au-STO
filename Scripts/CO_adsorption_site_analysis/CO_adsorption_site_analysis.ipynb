{
 "cells": [
  {
   "cell_type": "code",
   "execution_count": 1,
   "id": "8cf160da-4ffd-4a1a-99d8-02c49e9c3575",
   "metadata": {},
   "outputs": [
    {
     "ename": "ModuleNotFoundError",
     "evalue": "No module named 'analysis_binding_energy'",
     "output_type": "error",
     "traceback": [
      "\u001b[0;31m---------------------------------------------------------------------------\u001b[0m",
      "\u001b[0;31mModuleNotFoundError\u001b[0m                       Traceback (most recent call last)",
      "Cell \u001b[0;32mIn[1], line 10\u001b[0m\n\u001b[1;32m      8\u001b[0m \u001b[38;5;28;01mfrom\u001b[39;00m \u001b[38;5;21;01mase\u001b[39;00m\u001b[38;5;21;01m.\u001b[39;00m\u001b[38;5;21;01mvisualize\u001b[39;00m \u001b[38;5;28;01mimport\u001b[39;00m view\n\u001b[1;32m      9\u001b[0m \u001b[38;5;28;01mimport\u001b[39;00m \u001b[38;5;21;01mmatplotlib\u001b[39;00m\u001b[38;5;21;01m.\u001b[39;00m\u001b[38;5;21;01mpyplot\u001b[39;00m \u001b[38;5;28;01mas\u001b[39;00m \u001b[38;5;21;01mplt\u001b[39;00m\n\u001b[0;32m---> 10\u001b[0m \u001b[38;5;28;01mfrom\u001b[39;00m \u001b[38;5;21;01manalysis_binding_energy\u001b[39;00m \u001b[38;5;28;01mimport\u001b[39;00m check_bond, make_bond_dic, height, specify_pos\n\u001b[1;32m     11\u001b[0m \u001b[38;5;28;01mimport\u001b[39;00m \u001b[38;5;21;01msys\u001b[39;00m\n\u001b[1;32m     12\u001b[0m \u001b[38;5;28;01mfrom\u001b[39;00m \u001b[38;5;21;01mcandidate_filter\u001b[39;00m \u001b[38;5;28;01mimport\u001b[39;00m CandidateFilter\n",
      "\u001b[0;31mModuleNotFoundError\u001b[0m: No module named 'analysis_binding_energy'"
     ]
    }
   ],
   "source": [
    "from ase.io import write, read, Trajectory\n",
    "import numpy as np\n",
    "from abc import ABC, abstractmethod\n",
    "from ase import Atoms, Atom\n",
    "from ase.data import atomic_numbers, atomic_names, atomic_masses, covalent_radii\n",
    "from ase.geometry import get_distances\n",
    "from ase.units import Ang\n",
    "from ase.visualize import view\n",
    "import matplotlib.pyplot as plt\n",
    "from analysis_binding_energy import check_bond, make_bond_dic, height, specify_pos\n",
    "import sys\n",
    "from candidate_filter import CandidateFilter\n",
    "import html\n",
    "import random"
   ]
  },
  {
   "cell_type": "code",
   "execution_count": null,
   "id": "213870f1-2d6d-42db-b53e-9dc8da98f231",
   "metadata": {},
   "outputs": [],
   "source": []
  }
 ],
 "metadata": {
  "kernelspec": {
   "display_name": "autoforce",
   "language": "python",
   "name": "autoforce"
  },
  "language_info": {
   "codemirror_mode": {
    "name": "ipython",
    "version": 3
   },
   "file_extension": ".py",
   "mimetype": "text/x-python",
   "name": "python",
   "nbconvert_exporter": "python",
   "pygments_lexer": "ipython3",
   "version": "3.9.18"
  }
 },
 "nbformat": 4,
 "nbformat_minor": 5
}
